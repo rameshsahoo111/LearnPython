{
 "cells": [
  {
   "cell_type": "markdown",
   "metadata": {},
   "source": [
    "# Keywords\n",
    "\n"
   ]
  },
  {
   "cell_type": "markdown",
   "metadata": {},
   "source": [
    "In Python, Keywords are the reserved words. Keyword cannot be used as a variable name, function name or any other identifier. They are used to define the syntax and structure of the Python language. There are **33** keywords in Python 3.8. This number can vary slightly over the course of time.\n",
    "\n",
    "All the keywords except **True**, **False** and **None** are in lowercase and they must be written as they are. The list of all the keywords is given below.\n"
   ]
  },
  {
   "cell_type": "markdown",
   "metadata": {},
   "source": [
    "|          | |        | Python | Keywords|      |        |          | \n",
    "|:---------|:--------:|:------:|:------:|:-------:|:----:|:------:|---------:|\n",
    "| False    | await    | else   | import | pass    | None | break  | except   |\n",
    "| in       | raise    | True   | class  | finally | is   | return | and      |\n",
    "| continue | for      | lambda | try    | as      | def  | from   | nonlocal |\n",
    "| while    | assert   | del    | global | not     | with | async  | elif     |\n",
    "| if       | or       | yield  |        |         |      |        |          |\n"
   ]
  },
  {
   "cell_type": "code",
   "execution_count": 24,
   "metadata": {},
   "outputs": [],
   "source": [
    "# To list complete keywords \n",
    "import keyword"
   ]
  },
  {
   "cell_type": "code",
   "execution_count": 29,
   "metadata": {},
   "outputs": [
    {
     "name": "stdout",
     "output_type": "stream",
     "text": [
      "['False', 'None', 'True', 'and', 'as', 'assert', 'break', 'class', 'continue', 'def', 'del', 'elif', 'else', 'except', 'finally', 'for', 'from', 'global', 'if', 'import', 'in', 'is', 'lambda', 'nonlocal', 'not', 'or', 'pass', 'raise', 'return', 'try', 'while', 'with', 'yield']\n",
      "\n",
      "Total length of keywords:33\n"
     ]
    }
   ],
   "source": [
    "print(keyword.kwlist)\n",
    "print(f\"\\nTotal length of keywords:{len(keyword.kwlist)}\")"
   ]
  },
  {
   "cell_type": "markdown",
   "metadata": {},
   "source": [
    "## Python Identifiers"
   ]
  },
  {
   "cell_type": "markdown",
   "metadata": {},
   "source": [
    "An identifier is a name given to entities like variable, class, functions, etc. It helps to differentiate one entity from another. \n",
    "\n",
    "### Rules for writing identifiers\n",
    "\n",
    "1. Identifiers can be a combination of letters in lowercase (a to z) or uppercase (A to Z) or digits (0 to 9) or an underscore _. Names like myClass, var_1 and print_this_to_screen, all are valid example.\n",
    "\n",
    "2. An identifier cannot start with a digit. 1variable is invalid, but variable1 is a valid name.\n",
    "\n",
    "3. Keywords cannot be used as identifiers.\n",
    "\n",
    "4. We cannot use special symbols like !, @, #, $, % etc. in our identifier.\n",
    "\n",
    "5. An identifier can be of any length."
   ]
  },
  {
   "cell_type": "markdown",
   "metadata": {},
   "source": [
    "#### Reference\n",
    "https://www.programiz.com/python-programming/keywords-identifier"
   ]
  }
 ],
 "metadata": {
  "kernelspec": {
   "display_name": "Python 3",
   "language": "python",
   "name": "python3"
  },
  "language_info": {
   "codemirror_mode": {
    "name": "ipython",
    "version": 3
   },
   "file_extension": ".py",
   "mimetype": "text/x-python",
   "name": "python",
   "nbconvert_exporter": "python",
   "pygments_lexer": "ipython3",
   "version": "3.6.8"
  }
 },
 "nbformat": 4,
 "nbformat_minor": 2
}
